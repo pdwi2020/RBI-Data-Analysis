{
 "cells": [
  {
   "cell_type": "markdown",
   "metadata": {},
   "source": [
    "# model building"
   ]
  },
  {
   "cell_type": "code",
   "execution_count": 25,
   "metadata": {},
   "outputs": [
    {
     "data": {
      "text/html": [
       "<div>\n",
       "<style scoped>\n",
       "    .dataframe tbody tr th:only-of-type {\n",
       "        vertical-align: middle;\n",
       "    }\n",
       "\n",
       "    .dataframe tbody tr th {\n",
       "        vertical-align: top;\n",
       "    }\n",
       "\n",
       "    .dataframe thead th {\n",
       "        text-align: right;\n",
       "    }\n",
       "</style>\n",
       "<table border=\"1\" class=\"dataframe\">\n",
       "  <thead>\n",
       "    <tr style=\"text-align: right;\">\n",
       "      <th></th>\n",
       "      <th>Non-food Bank Credit</th>\n",
       "      <th>Investments in Commercial Paper</th>\n",
       "      <th>Investments in shares</th>\n",
       "      <th>Investments in Bonds/Debentures</th>\n",
       "      <th>Total Non-SLR Investments</th>\n",
       "      <th>Adjusted Non-food Bank Credit</th>\n",
       "      <th>Y-o-Y Growth in (7) (%)</th>\n",
       "      <th>Total Investments</th>\n",
       "    </tr>\n",
       "    <tr>\n",
       "      <th>Fortnight Ended</th>\n",
       "      <th></th>\n",
       "      <th></th>\n",
       "      <th></th>\n",
       "      <th></th>\n",
       "      <th></th>\n",
       "      <th></th>\n",
       "      <th></th>\n",
       "      <th></th>\n",
       "    </tr>\n",
       "  </thead>\n",
       "  <tbody>\n",
       "    <tr>\n",
       "      <th>2019-09-27</th>\n",
       "      <td>9.711225e+06</td>\n",
       "      <td>93828.7379</td>\n",
       "      <td>83826.5360</td>\n",
       "      <td>543412.0020</td>\n",
       "      <td>721067.2759</td>\n",
       "      <td>10432292.5559</td>\n",
       "      <td>8.474251</td>\n",
       "      <td>721067.2759</td>\n",
       "    </tr>\n",
       "    <tr>\n",
       "      <th>2019-09-13</th>\n",
       "      <td>9.646922e+06</td>\n",
       "      <td>94486.4320</td>\n",
       "      <td>83870.0320</td>\n",
       "      <td>538088.0210</td>\n",
       "      <td>716444.485</td>\n",
       "      <td>10363366.185</td>\n",
       "      <td>9.819415</td>\n",
       "      <td>716444.4850</td>\n",
       "    </tr>\n",
       "    <tr>\n",
       "      <th>2019-08-30</th>\n",
       "      <td>9.617761e+06</td>\n",
       "      <td>95878.8334</td>\n",
       "      <td>83847.1103</td>\n",
       "      <td>539545.3520</td>\n",
       "      <td>719271.2957</td>\n",
       "      <td>10337032.7394</td>\n",
       "      <td>9.709062</td>\n",
       "      <td>719271.2957</td>\n",
       "    </tr>\n",
       "    <tr>\n",
       "      <th>2019-08-16</th>\n",
       "      <td>9.619342e+06</td>\n",
       "      <td>98241.7826</td>\n",
       "      <td>83603.1477</td>\n",
       "      <td>537506.1614</td>\n",
       "      <td>719351.0917</td>\n",
       "      <td>10338692.9675</td>\n",
       "      <td>11.037356</td>\n",
       "      <td>719351.0917</td>\n",
       "    </tr>\n",
       "    <tr>\n",
       "      <th>2019-08-02</th>\n",
       "      <td>9.666255e+06</td>\n",
       "      <td>96892.3612</td>\n",
       "      <td>83606.2974</td>\n",
       "      <td>541910.6786</td>\n",
       "      <td>722409.3372</td>\n",
       "      <td>10388663.9202</td>\n",
       "      <td>11.408090</td>\n",
       "      <td>722409.3372</td>\n",
       "    </tr>\n",
       "  </tbody>\n",
       "</table>\n",
       "</div>"
      ],
      "text/plain": [
       "                 Non-food Bank Credit  Investments in Commercial Paper  \\\n",
       "Fortnight Ended                                                          \n",
       "2019-09-27               9.711225e+06                       93828.7379   \n",
       "2019-09-13               9.646922e+06                       94486.4320   \n",
       "2019-08-30               9.617761e+06                       95878.8334   \n",
       "2019-08-16               9.619342e+06                       98241.7826   \n",
       "2019-08-02               9.666255e+06                       96892.3612   \n",
       "\n",
       "                 Investments in shares  Investments in Bonds/Debentures  \\\n",
       "Fortnight Ended                                                           \n",
       "2019-09-27                  83826.5360                      543412.0020   \n",
       "2019-09-13                  83870.0320                      538088.0210   \n",
       "2019-08-30                  83847.1103                      539545.3520   \n",
       "2019-08-16                  83603.1477                      537506.1614   \n",
       "2019-08-02                  83606.2974                      541910.6786   \n",
       "\n",
       "                Total Non-SLR Investments Adjusted Non-food Bank Credit  \\\n",
       "Fortnight Ended                                                           \n",
       "2019-09-27                    721067.2759                 10432292.5559   \n",
       "2019-09-13                     716444.485                  10363366.185   \n",
       "2019-08-30                    719271.2957                 10337032.7394   \n",
       "2019-08-16                    719351.0917                 10338692.9675   \n",
       "2019-08-02                    722409.3372                 10388663.9202   \n",
       "\n",
       "                  Y-o-Y Growth in (7) (%)  Total Investments  \n",
       "Fortnight Ended                                               \n",
       "2019-09-27                       8.474251        721067.2759  \n",
       "2019-09-13                       9.819415        716444.4850  \n",
       "2019-08-30                       9.709062        719271.2957  \n",
       "2019-08-16                      11.037356        719351.0917  \n",
       "2019-08-02                      11.408090        722409.3372  "
      ]
     },
     "execution_count": 25,
     "metadata": {},
     "output_type": "execute_result"
    }
   ],
   "source": [
    "df.head()"
   ]
  },
  {
   "cell_type": "code",
   "execution_count": 26,
   "metadata": {},
   "outputs": [],
   "source": [
    "from sklearn.preprocessing import StandardScaler #StandardScaler function of sklearn is used to scale down values of dataframe between 0 and 1\n",
    "\n",
    "sc=StandardScaler() \n",
    "df=sc.fit_transform(df)"
   ]
  },
  {
   "cell_type": "code",
   "execution_count": 27,
   "metadata": {},
   "outputs": [],
   "source": [
    "#train_test_split is a function in Sklearn model selection for splitting data arrays into two subsets: for \n",
    "\n",
    "from sklearn.model_selection import train_test_split\n",
    "x_train,x_test,y_train,y_test=train_test_split(x,y)\n",
    "#splitting the data into train and split by ratio of 75% train and 25% test (default)"
   ]
  },
  {
   "cell_type": "code",
   "execution_count": 30,
   "metadata": {},
   "outputs": [],
   "source": [
    "##!pip install TPOT"
   ]
  },
  {
   "cell_type": "code",
   "execution_count": 31,
   "metadata": {},
   "outputs": [
    {
     "name": "stderr",
     "output_type": "stream",
     "text": [
      "C:\\Users\\parit\\anaconda3\\lib\\site-packages\\tpot\\builtins\\__init__.py:36: UserWarning: Warning: optional dependency `torch` is not available. - skipping import of NN models.\n",
      "  warnings.warn(\"Warning: optional dependency `torch` is not available. - skipping import of NN models.\")\n"
     ]
    }
   ],
   "source": [
    "from tpot import TPOTRegressor\n",
    "from sklearn.metrics import roc_auc_score "
   ]
  },
  {
   "cell_type": "code",
   "execution_count": 32,
   "metadata": {},
   "outputs": [
    {
     "name": "stdout",
     "output_type": "stream",
     "text": [
      "                                                                              \n",
      "Generation 1 - Current best internal CV score: -0.8493557722846308\n",
      "                                                                              \n",
      "Generation 2 - Current best internal CV score: -0.8142460364356732\n",
      "                                                                              \n",
      "Generation 3 - Current best internal CV score: -0.8142460364356732\n",
      "                                                                              \n",
      "Generation 4 - Current best internal CV score: -0.7808421427911443\n",
      "                                                                              \n",
      "Generation 5 - Current best internal CV score: -0.7808421427911443\n",
      "                                                                              \n",
      "Best pipeline: ExtraTreesRegressor(ExtraTreesRegressor(input_matrix, bootstrap=True, max_features=0.7000000000000001, min_samples_leaf=7, min_samples_split=3, n_estimators=100), bootstrap=True, max_features=0.6500000000000001, min_samples_leaf=2, min_samples_split=3, n_estimators=100)\n"
     ]
    },
    {
     "data": {
      "text/plain": [
       "TPOTRegressor(generations=5, population_size=50, verbosity=2)"
      ]
     },
     "execution_count": 32,
     "metadata": {},
     "output_type": "execute_result"
    }
   ],
   "source": [
    "tpot = TPOTRegressor(\n",
    "    generations=5,\n",
    "    population_size=50,\n",
    "    verbosity=2,\n",
    ")\n",
    "tpot.fit(x_train, y_train)"
   ]
  },
  {
   "cell_type": "code",
   "execution_count": 33,
   "metadata": {},
   "outputs": [
    {
     "data": {
      "text/plain": [
       "array([ 6.99656652,  7.18207433,  9.40369101,  7.84471073, 13.61860888,\n",
       "       14.12448907,  7.20698801, 11.24041222, 11.20772791,  8.83935204,\n",
       "       14.49590947, 12.66982563,  6.77452529, 14.49143835,  6.89323992,\n",
       "       13.10067668, 11.31593025])"
      ]
     },
     "execution_count": 33,
     "metadata": {},
     "output_type": "execute_result"
    }
   ],
   "source": [
    "tpot_pred = tpot.predict(x_test)\n",
    "tpot_pred"
   ]
  },
  {
   "cell_type": "code",
   "execution_count": 34,
   "metadata": {},
   "outputs": [],
   "source": [
    "from sklearn.ensemble import AdaBoostRegressor #import adaboostregressor from sklearn.ensemble class"
   ]
  },
  {
   "cell_type": "code",
   "execution_count": 35,
   "metadata": {},
   "outputs": [
    {
     "data": {
      "text/plain": [
       "AdaBoostRegressor(n_estimators=100, random_state=0)"
      ]
     },
     "execution_count": 35,
     "metadata": {},
     "output_type": "execute_result"
    }
   ],
   "source": [
    "regr = AdaBoostRegressor(random_state=0, n_estimators=100) #creating an instance of AdaBoostRegressor as regr\n",
    "regr.fit(x_train, y_train)  #fitting the AdaBoostRegressor on our training data"
   ]
  },
  {
   "cell_type": "code",
   "execution_count": 36,
   "metadata": {},
   "outputs": [],
   "source": [
    "y_pred=regr.predict(x_test) # making predictions on our test data using AdaBoostRegressor predict method and saving them in y_pred"
   ]
  },
  {
   "cell_type": "code",
   "execution_count": 37,
   "metadata": {},
   "outputs": [],
   "source": [
    "from sklearn.metrics import mean_squared_error  #retrieving the training(x_train,y_train) accuracy score of the AdaBoostRegressor "
   ]
  },
  {
   "cell_type": "code",
   "execution_count": 38,
   "metadata": {},
   "outputs": [
    {
     "data": {
      "text/plain": [
       "0.43394959302993447"
      ]
     },
     "execution_count": 38,
     "metadata": {},
     "output_type": "execute_result"
    }
   ],
   "source": [
    "mean_squared_error(y_pred,y_test) #retrieving the testing(x_test,y_test) accuracy score of the AdaBoostRegressor "
   ]
  },
  {
   "cell_type": "code",
   "execution_count": 39,
   "metadata": {},
   "outputs": [],
   "source": [
    "from sklearn.ensemble import RandomForestRegressor #import Random forest regressor from sklearn.ensemble class"
   ]
  },
  {
   "cell_type": "code",
   "execution_count": 40,
   "metadata": {},
   "outputs": [],
   "source": [
    "regr1 = RandomForestRegressor(random_state=0, n_estimators=100) \n",
    "regr1.fit(x_train, y_train) \n",
    "y_pred1=regr1.predict(x_test)"
   ]
  },
  {
   "cell_type": "code",
   "execution_count": 41,
   "metadata": {},
   "outputs": [
    {
     "data": {
      "text/plain": [
       "0.2866335420711085"
      ]
     },
     "execution_count": 41,
     "metadata": {},
     "output_type": "execute_result"
    }
   ],
   "source": [
    "mean_squared_error(y_pred1,y_test)"
   ]
  },
  {
   "cell_type": "markdown",
   "metadata": {},
   "source": [
    "# CONCLUSION \n",
    "\n",
    "Prediction of Year over year growth rate is a regression problem so to make predictions we have used powerful regression algorithm like AdaBoost regressor and some new machine learning algorithm (AUTOML) like TPOT regressor."
   ]
  }
 ],
 "metadata": {
  "kernelspec": {
   "display_name": "Python 3",
   "language": "python",
   "name": "python3"
  },
  "language_info": {
   "codemirror_mode": {
    "name": "ipython",
    "version": 3
   },
   "file_extension": ".py",
   "mimetype": "text/x-python",
   "name": "python",
   "nbconvert_exporter": "python",
   "pygments_lexer": "ipython3",
   "version": "3.8.8"
  }
 },
 "nbformat": 4,
 "nbformat_minor": 2
}
